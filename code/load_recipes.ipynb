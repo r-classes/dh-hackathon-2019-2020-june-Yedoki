{
 "cells": [
  {
   "cell_type": "code",
   "execution_count": 68,
   "metadata": {},
   "outputs": [],
   "source": [
    "from collections import defaultdict\n",
    "from urllib.parse import urlparse\n",
    "from tqdm import tqdm_notebook\n",
    "from bs4 import BeautifulSoup\n",
    "import matplotlib.pyplot as plt\n",
    "import pandas as pd\n",
    "import requests\n",
    "import random\n",
    "import json\n",
    "import time\n",
    "import re"
   ]
  },
  {
   "cell_type": "code",
   "execution_count": 139,
   "metadata": {},
   "outputs": [],
   "source": [
    "from requests.adapters import HTTPAdapter\n",
    "from requests.packages.urllib3.util.retry import Retry\n",
    "\n",
    "session = requests.Session()\n",
    "retry = Retry(connect=1, backoff_factor=0.5)\n",
    "adapter = HTTPAdapter(max_retries=retry)\n",
    "session.mount('http://', adapter)\n",
    "session.mount('https://', adapter)"
   ]
  },
  {
   "cell_type": "code",
   "execution_count": 212,
   "metadata": {},
   "outputs": [],
   "source": [
    "def get_soup(url):\n",
    "    global session\n",
    "    req = session.get(url)\n",
    "    if req.status_code == 200:\n",
    "        html = req.text\n",
    "        html = re.sub('&quot;', '', html)\n",
    "        soup = BeautifulSoup(html, 'lxml')\n",
    "        return soup\n",
    "    return None\n"
   ]
  },
  {
   "cell_type": "markdown",
   "metadata": {},
   "source": [
    "# Данные "
   ]
  },
  {
   "cell_type": "code",
   "execution_count": 6,
   "metadata": {},
   "outputs": [],
   "source": [
    "path = 'ingredients_from_eda.ru.csv'\n",
    "data = pd.read_csv(path)"
   ]
  },
  {
   "cell_type": "code",
   "execution_count": 61,
   "metadata": {},
   "outputs": [
    {
     "data": {
      "text/html": [
       "<div>\n",
       "<style scoped>\n",
       "    .dataframe tbody tr th:only-of-type {\n",
       "        vertical-align: middle;\n",
       "    }\n",
       "\n",
       "    .dataframe tbody tr th {\n",
       "        vertical-align: top;\n",
       "    }\n",
       "\n",
       "    .dataframe thead th {\n",
       "        text-align: right;\n",
       "    }\n",
       "</style>\n",
       "<table border=\"1\" class=\"dataframe\">\n",
       "  <thead>\n",
       "    <tr style=\"text-align: right;\">\n",
       "      <th></th>\n",
       "      <th>id</th>\n",
       "      <th>ingredient</th>\n",
       "      <th>amount</th>\n",
       "      <th>name</th>\n",
       "      <th>type</th>\n",
       "      <th>page</th>\n",
       "    </tr>\n",
       "  </thead>\n",
       "  <tbody>\n",
       "    <tr>\n",
       "      <th>0</th>\n",
       "      <td>13411</td>\n",
       "      <td>Вода</td>\n",
       "      <td>1 л</td>\n",
       "      <td>kapusta-po-gruzinski-137009</td>\n",
       "      <td>zagotovki</td>\n",
       "      <td>1</td>\n",
       "    </tr>\n",
       "    <tr>\n",
       "      <th>1</th>\n",
       "      <td>13410</td>\n",
       "      <td>Сахар</td>\n",
       "      <td>90 г</td>\n",
       "      <td>kapusta-po-gruzinski-137009</td>\n",
       "      <td>zagotovki</td>\n",
       "      <td>1</td>\n",
       "    </tr>\n",
       "    <tr>\n",
       "      <th>2</th>\n",
       "      <td>13421</td>\n",
       "      <td>Соль</td>\n",
       "      <td>12 г</td>\n",
       "      <td>kapusta-po-gruzinski-137009</td>\n",
       "      <td>zagotovki</td>\n",
       "      <td>1</td>\n",
       "    </tr>\n",
       "    <tr>\n",
       "      <th>3</th>\n",
       "      <td>14585</td>\n",
       "      <td>Уксус 9%-ный</td>\n",
       "      <td>250 мл</td>\n",
       "      <td>kapusta-po-gruzinski-137009</td>\n",
       "      <td>zagotovki</td>\n",
       "      <td>1</td>\n",
       "    </tr>\n",
       "    <tr>\n",
       "      <th>4</th>\n",
       "      <td>13436</td>\n",
       "      <td>Белокочанная капуста</td>\n",
       "      <td>1 штука</td>\n",
       "      <td>kapusta-po-gruzinski-137009</td>\n",
       "      <td>zagotovki</td>\n",
       "      <td>1</td>\n",
       "    </tr>\n",
       "  </tbody>\n",
       "</table>\n",
       "</div>"
      ],
      "text/plain": [
       "      id            ingredient   amount                         name  \\\n",
       "0  13411                  Вода      1 л  kapusta-po-gruzinski-137009   \n",
       "1  13410                 Сахар     90 г  kapusta-po-gruzinski-137009   \n",
       "2  13421                  Соль     12 г  kapusta-po-gruzinski-137009   \n",
       "3  14585          Уксус 9%-ный   250 мл  kapusta-po-gruzinski-137009   \n",
       "4  13436  Белокочанная капуста  1 штука  kapusta-po-gruzinski-137009   \n",
       "\n",
       "        type  page  \n",
       "0  zagotovki     1  \n",
       "1  zagotovki     1  \n",
       "2  zagotovki     1  \n",
       "3  zagotovki     1  \n",
       "4  zagotovki     1  "
      ]
     },
     "execution_count": 61,
     "metadata": {},
     "output_type": "execute_result"
    }
   ],
   "source": [
    "data.head()"
   ]
  },
  {
   "cell_type": "markdown",
   "metadata": {},
   "source": [
    "# Выкачка"
   ]
  },
  {
   "cell_type": "code",
   "execution_count": 213,
   "metadata": {},
   "outputs": [],
   "source": [
    "def parse_ingredients(salat_name, recipes):\n",
    "    global base_url\n",
    "    url = base_url.format(salat_name)\n",
    "    soup = get_soup(url)\n",
    "    ingrd_lists = soup.find_all('div', class_=\"ingredients-list__content\")\n",
    "    ingrd_lists = ingrd_lists[0]\n",
    "    for ingredient in ingrd_lists:\n",
    "        if ingredient.name == 'p':\n",
    "            ingredient = json.loads(ingredient.attrs['data-ingredient-object'])\n",
    "            recipes['name'].append(salat_name)\n",
    "            for field in ingredient:\n",
    "                if field == 'name': col = 'ingredient'\n",
    "                else: col = field\n",
    "                recipes[col].append(ingredient[field])"
   ]
  },
  {
   "cell_type": "code",
   "execution_count": 158,
   "metadata": {},
   "outputs": [],
   "source": [
    "# def get_type(soup):\n",
    "#     all_cats = soup.find_all('div', class_='recipe__title')[0]\n",
    "#     url = all_cats.find_all('li')[1]\n",
    "#     urlp = urlparse(url.a.attrs['href'])\n",
    "#     cat = urlp.path.split('/')[-1]\n",
    "#     return cat"
   ]
  },
  {
   "cell_type": "code",
   "execution_count": 159,
   "metadata": {},
   "outputs": [],
   "source": [
    "base_url = 'https://eda.ru/recepty/salaty/{}'"
   ]
  },
  {
   "cell_type": "code",
   "execution_count": null,
   "metadata": {},
   "outputs": [],
   "source": [
    "recipes = {col:[] for col in ('id', 'ingredient', 'amount', 'name')}\n",
    "salaty = data[data.type == 'salaty'].name.drop_duplicates()\n",
    "t_par = tqdm_notebook(salaty)\n",
    "\n",
    "for name in t_par:\n",
    "    time.sleep(random.randint(2, 4))\n",
    "    parse_ingredients(name, recipes)\n",
    "    "
   ]
  },
  {
   "cell_type": "markdown",
   "metadata": {},
   "source": [
    "Continue"
   ]
  },
  {
   "cell_type": "code",
   "execution_count": 218,
   "metadata": {
    "collapsed": true
   },
   "outputs": [
    {
     "data": {
      "application/vnd.jupyter.widget-view+json": {
       "model_id": "8d93c66fc35e4ad28a87040d1b9b08a1",
       "version_major": 2,
       "version_minor": 0
      },
      "text/plain": [
       "HBox(children=(IntProgress(value=0, max=3330), HTML(value='')))"
      ]
     },
     "metadata": {},
     "output_type": "display_data"
    },
    {
     "name": "stdout",
     "output_type": "stream",
     "text": [
      "\n"
     ]
    },
    {
     "ename": "KeyboardInterrupt",
     "evalue": "",
     "output_type": "error",
     "traceback": [
      "\u001b[0;31m---------------------------------------------------------------------------\u001b[0m",
      "\u001b[0;31mKeyboardInterrupt\u001b[0m                         Traceback (most recent call last)",
      "\u001b[0;32m<ipython-input-218-e070c321c680>\u001b[0m in \u001b[0;36m<module>\u001b[0;34m\u001b[0m\n\u001b[1;32m      3\u001b[0m \u001b[0;34m\u001b[0m\u001b[0m\n\u001b[1;32m      4\u001b[0m \u001b[0;32mfor\u001b[0m \u001b[0mname\u001b[0m \u001b[0;32min\u001b[0m \u001b[0mt_par\u001b[0m\u001b[0;34m:\u001b[0m\u001b[0;34m\u001b[0m\u001b[0m\n\u001b[0;32m----> 5\u001b[0;31m     \u001b[0mtime\u001b[0m\u001b[0;34m.\u001b[0m\u001b[0msleep\u001b[0m\u001b[0;34m(\u001b[0m\u001b[0mrandom\u001b[0m\u001b[0;34m.\u001b[0m\u001b[0mrandint\u001b[0m\u001b[0;34m(\u001b[0m\u001b[0;36m2\u001b[0m\u001b[0;34m,\u001b[0m \u001b[0;36m4\u001b[0m\u001b[0;34m)\u001b[0m\u001b[0;34m)\u001b[0m\u001b[0;34m\u001b[0m\u001b[0m\n\u001b[0m\u001b[1;32m      6\u001b[0m     \u001b[0mparse_ingredients\u001b[0m\u001b[0;34m(\u001b[0m\u001b[0mname\u001b[0m\u001b[0;34m,\u001b[0m \u001b[0mrecipes\u001b[0m\u001b[0;34m)\u001b[0m\u001b[0;34m\u001b[0m\u001b[0m\n",
      "\u001b[0;31mKeyboardInterrupt\u001b[0m: "
     ]
    }
   ],
   "source": [
    "t_par = tqdm_notebook(list(salaty)[2455:])\n",
    "\n",
    "for name in t_par:\n",
    "    time.sleep(random.randint(2, 4))\n",
    "    parse_ingredients(name, recipes)"
   ]
  },
  {
   "cell_type": "code",
   "execution_count": 223,
   "metadata": {},
   "outputs": [],
   "source": [
    "recipes = pd.DataFrame(recipes)\n",
    "recipes.to_csv('recipes.tsv', sep='\\t')"
   ]
  },
  {
   "cell_type": "code",
   "execution_count": 224,
   "metadata": {},
   "outputs": [
    {
     "data": {
      "text/html": [
       "<div>\n",
       "<style scoped>\n",
       "    .dataframe tbody tr th:only-of-type {\n",
       "        vertical-align: middle;\n",
       "    }\n",
       "\n",
       "    .dataframe tbody tr th {\n",
       "        vertical-align: top;\n",
       "    }\n",
       "\n",
       "    .dataframe thead th {\n",
       "        text-align: right;\n",
       "    }\n",
       "</style>\n",
       "<table border=\"1\" class=\"dataframe\">\n",
       "  <thead>\n",
       "    <tr style=\"text-align: right;\">\n",
       "      <th></th>\n",
       "      <th>id</th>\n",
       "      <th>ingredient</th>\n",
       "      <th>amount</th>\n",
       "      <th>name</th>\n",
       "    </tr>\n",
       "  </thead>\n",
       "  <tbody>\n",
       "    <tr>\n",
       "      <th>0</th>\n",
       "      <td>13420</td>\n",
       "      <td>Перец черный молотый</td>\n",
       "      <td>по вкусу</td>\n",
       "      <td>salat-iz-krasnoj-fasoli-s-tvorozhnim-sirom-kra...</td>\n",
       "    </tr>\n",
       "    <tr>\n",
       "      <th>1</th>\n",
       "      <td>13804</td>\n",
       "      <td>Консервированная фасоль</td>\n",
       "      <td>400 г</td>\n",
       "      <td>salat-iz-krasnoj-fasoli-s-tvorozhnim-sirom-kra...</td>\n",
       "    </tr>\n",
       "    <tr>\n",
       "      <th>2</th>\n",
       "      <td>13421</td>\n",
       "      <td>Соль</td>\n",
       "      <td>по вкусу</td>\n",
       "      <td>salat-iz-krasnoj-fasoli-s-tvorozhnim-sirom-kra...</td>\n",
       "    </tr>\n",
       "    <tr>\n",
       "      <th>3</th>\n",
       "      <td>13427</td>\n",
       "      <td>Лимон</td>\n",
       "      <td>1 штука</td>\n",
       "      <td>salat-iz-krasnoj-fasoli-s-tvorozhnim-sirom-kra...</td>\n",
       "    </tr>\n",
       "    <tr>\n",
       "      <th>4</th>\n",
       "      <td>13430</td>\n",
       "      <td>Чеснок</td>\n",
       "      <td>2 зубчика</td>\n",
       "      <td>salat-iz-krasnoj-fasoli-s-tvorozhnim-sirom-kra...</td>\n",
       "    </tr>\n",
       "  </tbody>\n",
       "</table>\n",
       "</div>"
      ],
      "text/plain": [
       "      id               ingredient     amount  \\\n",
       "0  13420     Перец черный молотый   по вкусу   \n",
       "1  13804  Консервированная фасоль      400 г   \n",
       "2  13421                     Соль   по вкусу   \n",
       "3  13427                    Лимон    1 штука   \n",
       "4  13430                   Чеснок  2 зубчика   \n",
       "\n",
       "                                                name  \n",
       "0  salat-iz-krasnoj-fasoli-s-tvorozhnim-sirom-kra...  \n",
       "1  salat-iz-krasnoj-fasoli-s-tvorozhnim-sirom-kra...  \n",
       "2  salat-iz-krasnoj-fasoli-s-tvorozhnim-sirom-kra...  \n",
       "3  salat-iz-krasnoj-fasoli-s-tvorozhnim-sirom-kra...  \n",
       "4  salat-iz-krasnoj-fasoli-s-tvorozhnim-sirom-kra...  "
      ]
     },
     "execution_count": 224,
     "metadata": {},
     "output_type": "execute_result"
    }
   ],
   "source": [
    "recipes.head()"
   ]
  },
  {
   "cell_type": "markdown",
   "metadata": {},
   "source": [
    "# Салаты"
   ]
  },
  {
   "cell_type": "code",
   "execution_count": 2,
   "metadata": {},
   "outputs": [],
   "source": [
    "data = pd.read_csv('/Users/Stoneberry/Desktop/recipes.tsv', sep='\\t')"
   ]
  },
  {
   "cell_type": "code",
   "execution_count": 3,
   "metadata": {},
   "outputs": [
    {
     "data": {
      "text/html": [
       "<div>\n",
       "<style scoped>\n",
       "    .dataframe tbody tr th:only-of-type {\n",
       "        vertical-align: middle;\n",
       "    }\n",
       "\n",
       "    .dataframe tbody tr th {\n",
       "        vertical-align: top;\n",
       "    }\n",
       "\n",
       "    .dataframe thead th {\n",
       "        text-align: right;\n",
       "    }\n",
       "</style>\n",
       "<table border=\"1\" class=\"dataframe\">\n",
       "  <thead>\n",
       "    <tr style=\"text-align: right;\">\n",
       "      <th></th>\n",
       "      <th>Unnamed: 0</th>\n",
       "      <th>id</th>\n",
       "      <th>ingredient</th>\n",
       "      <th>amount</th>\n",
       "      <th>name</th>\n",
       "    </tr>\n",
       "  </thead>\n",
       "  <tbody>\n",
       "    <tr>\n",
       "      <th>0</th>\n",
       "      <td>0</td>\n",
       "      <td>13420</td>\n",
       "      <td>Перец черный молотый</td>\n",
       "      <td>по вкусу</td>\n",
       "      <td>salat-iz-krasnoj-fasoli-s-tvorozhnim-sirom-kra...</td>\n",
       "    </tr>\n",
       "    <tr>\n",
       "      <th>1</th>\n",
       "      <td>1</td>\n",
       "      <td>13804</td>\n",
       "      <td>Консервированная фасоль</td>\n",
       "      <td>400 г</td>\n",
       "      <td>salat-iz-krasnoj-fasoli-s-tvorozhnim-sirom-kra...</td>\n",
       "    </tr>\n",
       "    <tr>\n",
       "      <th>2</th>\n",
       "      <td>2</td>\n",
       "      <td>13421</td>\n",
       "      <td>Соль</td>\n",
       "      <td>по вкусу</td>\n",
       "      <td>salat-iz-krasnoj-fasoli-s-tvorozhnim-sirom-kra...</td>\n",
       "    </tr>\n",
       "    <tr>\n",
       "      <th>3</th>\n",
       "      <td>3</td>\n",
       "      <td>13427</td>\n",
       "      <td>Лимон</td>\n",
       "      <td>1 штука</td>\n",
       "      <td>salat-iz-krasnoj-fasoli-s-tvorozhnim-sirom-kra...</td>\n",
       "    </tr>\n",
       "    <tr>\n",
       "      <th>4</th>\n",
       "      <td>4</td>\n",
       "      <td>13430</td>\n",
       "      <td>Чеснок</td>\n",
       "      <td>2 зубчика</td>\n",
       "      <td>salat-iz-krasnoj-fasoli-s-tvorozhnim-sirom-kra...</td>\n",
       "    </tr>\n",
       "  </tbody>\n",
       "</table>\n",
       "</div>"
      ],
      "text/plain": [
       "   Unnamed: 0     id               ingredient     amount  \\\n",
       "0           0  13420     Перец черный молотый   по вкусу   \n",
       "1           1  13804  Консервированная фасоль      400 г   \n",
       "2           2  13421                     Соль   по вкусу   \n",
       "3           3  13427                    Лимон    1 штука   \n",
       "4           4  13430                   Чеснок  2 зубчика   \n",
       "\n",
       "                                                name  \n",
       "0  salat-iz-krasnoj-fasoli-s-tvorozhnim-sirom-kra...  \n",
       "1  salat-iz-krasnoj-fasoli-s-tvorozhnim-sirom-kra...  \n",
       "2  salat-iz-krasnoj-fasoli-s-tvorozhnim-sirom-kra...  \n",
       "3  salat-iz-krasnoj-fasoli-s-tvorozhnim-sirom-kra...  \n",
       "4  salat-iz-krasnoj-fasoli-s-tvorozhnim-sirom-kra...  "
      ]
     },
     "execution_count": 3,
     "metadata": {},
     "output_type": "execute_result"
    }
   ],
   "source": [
    "data.head()"
   ]
  },
  {
   "cell_type": "markdown",
   "metadata": {},
   "source": [
    "### cesar"
   ]
  },
  {
   "cell_type": "code",
   "execution_count": null,
   "metadata": {},
   "outputs": [],
   "source": [
    "cesar = data[data['name'].str.contains(\"-cezar-\")]\n",
    "cesar['cat'] = ['cesar'] * cesar.shape[0]"
   ]
  },
  {
   "cell_type": "markdown",
   "metadata": {},
   "source": [
    "### rassols"
   ]
  },
  {
   "cell_type": "code",
   "execution_count": null,
   "metadata": {},
   "outputs": [],
   "source": [
    "rassols = data[data['name'].str.contains(\"-rassols-\")]\n",
    "rassols['cat'] = ['rassols'] * rassols.shape[0]"
   ]
  },
  {
   "cell_type": "markdown",
   "metadata": {},
   "source": [
    "### shopskiy"
   ]
  },
  {
   "cell_type": "code",
   "execution_count": null,
   "metadata": {},
   "outputs": [],
   "source": [
    "shopskiy = data[data['name'].str.contains(\"shopskiy-\")]\n",
    "shopskiy['cat'] = ['shopskiy'] * shopskiy.shape[0]"
   ]
  },
  {
   "cell_type": "markdown",
   "metadata": {},
   "source": [
    "#### Соединяем вместе"
   ]
  },
  {
   "cell_type": "code",
   "execution_count": 73,
   "metadata": {},
   "outputs": [],
   "source": [
    "df = pd.concat([cesar, rassols, shopskiy])\n",
    "counts = df[['name', 'cat']].drop_duplicates().groupby('cat').size()\n",
    "unstacked = df.groupby(['cat', 'ingredient']).size().reset_index()\n",
    "values = [counts[cat] for cat in unstacked['cat']]\n",
    "unstacked['n'] = unstacked[0].div(values)"
   ]
  },
  {
   "cell_type": "markdown",
   "metadata": {},
   "source": [
    "## Визуализация"
   ]
  },
  {
   "cell_type": "code",
   "execution_count": 70,
   "metadata": {},
   "outputs": [],
   "source": [
    "import seaborn as sns"
   ]
  },
  {
   "cell_type": "code",
   "execution_count": 107,
   "metadata": {},
   "outputs": [],
   "source": [
    "unstacked = unstacked.pivot_table('n', ['ingredient'], 'cat')\n",
    "unstacked = unstacked.fillna(0)\n",
    "unstacked['score'] = unstacked.sum(axis=1)\n",
    "unstacked = unstacked.sort_values('score', ascending=False)"
   ]
  },
  {
   "cell_type": "code",
   "execution_count": 127,
   "metadata": {
    "scrolled": false
   },
   "outputs": [
    {
     "data": {
      "text/plain": [
       "<matplotlib.axes._subplots.AxesSubplot at 0x11b1672b0>"
      ]
     },
     "execution_count": 127,
     "metadata": {},
     "output_type": "execute_result"
    },
    {
     "data": {
      "image/png": "[encoded data removed]",
      "text/plain": [
       "<Figure size 1440x720 with 2 Axes>"
      ]
     },
     "metadata": {
      "needs_background": "light"
     },
     "output_type": "display_data"
    }
   ],
   "source": [
    "plt.figure(figsize=(20, 10))\n",
    "\n",
    "sns.heatmap(unstacked[['cesar', 'rassols', 'shopskiy']].head(30), annot=True)"
   ]
  }
 ],
 "metadata": {
  "kernelspec": {
   "display_name": "Python 3",
   "language": "python",
   "name": "python3"
  },
  "language_info": {
   "codemirror_mode": {
    "name": "ipython",
    "version": 3
   },
   "file_extension": ".py",
   "mimetype": "text/x-python",
   "name": "python",
   "nbconvert_exporter": "python",
   "pygments_lexer": "ipython3",
   "version": "3.6.5"
  }
 },
 "nbformat": 4,
 "nbformat_minor": 2
}
